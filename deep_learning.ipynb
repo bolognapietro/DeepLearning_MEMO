{
  "cells": [
    {
      "cell_type": "code",
      "execution_count": null,
      "metadata": {
        "colab": {
          "base_uri": "https://localhost:8080/"
        },
        "id": "SaA4ccjTR4uV",
        "outputId": "c32e39f1-0f29-497f-cd16-7911dba8e023"
      },
      "outputs": [],
      "source": [
        "# Init workspace\n",
        "!mkdir dataset\n",
        "\n",
        "# Download dataset and extract it\n",
        "!gdown 111HiEoEvZDdg1Y2EefI6n5dA_p4sMV4V\n",
        "!mv imagenet-a.tar ./dataset\n",
        "!tar -xf ./dataset/imagenet-a.tar\n",
        "!mv imagenet-a ./dataset\n",
        "\n",
        "# Cleanup\n",
        "!rm ./dataset/imagenet-a.tar"
      ]
    },
    {
      "cell_type": "code",
      "execution_count": 12,
      "metadata": {
        "id": "YwWm7RyV4bci"
      },
      "outputs": [],
      "source": [
        "import torch\n",
        "from transformers import ViTForImageClassification, ViTImageProcessor\n",
        "import torchvision\n",
        "import torch.nn.functional as F\n",
        "import torchvision.transforms as T\n",
        "\n",
        "import json\n",
        "from os.path import basename, join\n",
        "from pathlib import Path\n",
        "import requests\n",
        "\n",
        "import re"
      ]
    },
    {
      "cell_type": "code",
      "execution_count": 16,
      "metadata": {
        "id": "xMgaZ3ON9hNd"
      },
      "outputs": [],
      "source": [
        "DEVICE = torch.device(\"cuda\" if torch.cuda.is_available() else \"cpu\")"
      ]
    },
    {
      "cell_type": "code",
      "execution_count": 4,
      "metadata": {
        "id": "lAfAfJw9XBdX"
      },
      "outputs": [],
      "source": [
        "def load_imagenet_a_labels() -> list:\n",
        "\n",
        "    imagenet_a = \"./dataset/imagenet-a\"\n",
        "\n",
        "    with open(join(imagenet_a, \"README.txt\"), \"r\") as f:\n",
        "        lines = f.readlines()\n",
        "\n",
        "    pattern = re.compile(r\"n\\d{8}\\s(.+)\")\n",
        "\n",
        "    labels = []\n",
        "\n",
        "    for index, label in enumerate([line.strip() for line in lines if pattern.match(line)]):\n",
        "        label = label.strip()\n",
        "        label = label.split(\" \")\n",
        "        label = \" \".join(label[1:])\n",
        "\n",
        "        labels.append(label)\n",
        "\n",
        "    return labels\n"
      ]
    },
    {
      "cell_type": "code",
      "execution_count": 5,
      "metadata": {
        "id": "scjsACtS7Mzz"
      },
      "outputs": [],
      "source": [
        "def load_model_labels() -> list[str]:\n",
        "\n",
        "    url = \"https://raw.githubusercontent.com/anishathalye/imagenet-simple-labels/master/imagenet-simple-labels.json\"\n",
        "    path = Path(basename(url))\n",
        "\n",
        "    # Check if labels file already exists\n",
        "    if not path.exists():\n",
        "        response = requests.get(url)\n",
        "        path.write_text(response.text)\n",
        "\n",
        "    # Load labels\n",
        "    with open(path, \"r\") as f:\n",
        "        labels = json.load(f)\n",
        "\n",
        "    return labels"
      ]
    },
    {
      "cell_type": "code",
      "execution_count": 6,
      "metadata": {
        "id": "sH4oeOPsfwLu"
      },
      "outputs": [],
      "source": [
        "def merge_labels() -> dict:\n",
        "\n",
        "    imagenet_a_labels = load_imagenet_a_labels()\n",
        "    model_labels = load_model_labels()\n",
        "\n",
        "    labels = {}\n",
        "\n",
        "    for imagenet_a_index, item in enumerate(imagenet_a_labels):\n",
        "\n",
        "        model_index = model_labels.index(item)\n",
        "\n",
        "        labels[item] = {\n",
        "            \"imagenet-a\": imagenet_a_index,\n",
        "            \"model\": model_index\n",
        "        }\n",
        "\n",
        "    return labels"
      ]
    },
    {
      "cell_type": "code",
      "execution_count": 13,
      "metadata": {
        "id": "mZ4Mo02l8cqQ"
      },
      "outputs": [],
      "source": [
        "def load_model(model_name: str = \"google/vit-base-patch16-384\") -> ViTForImageClassification:\n",
        "\n",
        "    # Load the pre-trained model\n",
        "    model = ViTForImageClassification.from_pretrained(model_name).to(DEVICE)\n",
        "\n",
        "    return model"
      ]
    },
    {
      "cell_type": "code",
      "execution_count": 8,
      "metadata": {
        "id": "ut7hOuKqfnct"
      },
      "outputs": [],
      "source": [
        "def load_dataset():\n",
        "\n",
        "    imagenet_a = \"./dataset/imagenet-a/\"\n",
        "\n",
        "    # Prepare data transformations for the train loader\n",
        "    transform = T.Compose([\n",
        "        T.Resize((384, 384)),                                                   # Resize each PIL image to 224 x 224\n",
        "        T.ToTensor(),                                                           # Convert Numpy to Pytorch Tensor\n",
        "    ])\n",
        "\n",
        "    # Load data\n",
        "    imagenet_a_dataset = torchvision.datasets.ImageFolder(root=imagenet_a, transform=transform)\n",
        "    return torch.utils.data.DataLoader(imagenet_a_dataset, 1, shuffle=True, num_workers=8)"
      ]
    },
    {
      "cell_type": "code",
      "execution_count": 9,
      "metadata": {
        "id": "Bk0WB8NHXXlQ"
      },
      "outputs": [],
      "source": [
        "def classify_image(model: ViTForImageClassification, img: torch.Tensor) -> tuple[dict, dict]:\n",
        "\n",
        "    # Perform inference\n",
        "    model.eval()\n",
        "\n",
        "    with torch.no_grad():\n",
        "        outputs = model(img)\n",
        "\n",
        "    # Extract probabilities from model's output logits\n",
        "    probabilities = torch.nn.functional.softmax(outputs.logits, dim=-1).squeeze()\n",
        "\n",
        "    labels = load_model_labels()\n",
        "    results = {}\n",
        "\n",
        "    for index, probability in enumerate(probabilities):\n",
        "        results[index] = {\n",
        "            \"index\": index,\n",
        "            \"label\": labels[index],\n",
        "            \"probability\": probability.item()\n",
        "        }\n",
        "\n",
        "    predicted = probabilities.argmax(-1).item()\n",
        "    predicted = {\n",
        "        \"index\": predicted,\n",
        "        \"label\": labels[predicted],\n",
        "        \"probability\": probabilities[predicted].item()\n",
        "    }\n",
        "\n",
        "    return predicted, results"
      ]
    },
    {
      "cell_type": "code",
      "execution_count": 17,
      "metadata": {
        "id": "6SRcSAf9IJEv"
      },
      "outputs": [],
      "source": [
        "# Load model (only once)\n",
        "model = load_model()\n",
        "\n",
        "# Load data (only once)\n",
        "data_loader = load_dataset()\n",
        "\n",
        "# Extract merged labels\n",
        "merged_labels = merge_labels()"
      ]
    },
    {
      "cell_type": "code",
      "execution_count": null,
      "metadata": {
        "colab": {
          "base_uri": "https://localhost:8080/"
        },
        "id": "jrXGkChUYXHS",
        "outputId": "f1766a3f-e3d5-4a87-86b3-249ddebb8776"
      },
      "outputs": [],
      "source": [
        "accuracy = 0\n",
        "\n",
        "for index, img in enumerate(data_loader):\n",
        "\n",
        "    # Get model prediction\n",
        "    predicted, results = classify_image(model=model, img=img[0].to(DEVICE))\n",
        "\n",
        "    # Check if the predicted label exists inside the dataset labels\n",
        "    if predicted[\"label\"] in merged_labels:\n",
        "\n",
        "        merged_label = merged_labels[predicted[\"label\"]]\n",
        "\n",
        "        # Check if the prediction was correct\n",
        "        if merged_label[\"imagenet-a\"] == img[1].item():\n",
        "            accuracy = accuracy + 1\n",
        "\n",
        "    print(f\"Image {index+1} / {len(data_loader)} | Accuracy: {round((accuracy / (index + 1)) * 100, 2)}% ({accuracy} / {index + 1})\")\n",
        "\n",
        "accuracy = accuracy / len(data_loader)"
      ]
    }
  ],
  "metadata": {
    "accelerator": "GPU",
    "colab": {
      "gpuType": "T4",
      "provenance": []
    },
    "kernelspec": {
      "display_name": "Python 3",
      "name": "python3"
    },
    "language_info": {
      "name": "python"
    }
  },
  "nbformat": 4,
  "nbformat_minor": 0
}
